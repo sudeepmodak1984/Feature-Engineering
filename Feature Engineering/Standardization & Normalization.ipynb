{
 "cells": [
  {
   "cell_type": "code",
   "execution_count": 1,
   "id": "b97b42bb",
   "metadata": {},
   "outputs": [],
   "source": [
    "import numpy as np\n",
    "import pandas as pd\n",
    "import matplotlib.pyplot as plt\n",
    "import seaborn as sns"
   ]
  },
  {
   "cell_type": "code",
   "execution_count": 29,
   "id": "eafb4fe4",
   "metadata": {},
   "outputs": [],
   "source": [
    "df= pd.read_csv('Social_Network_Ads.csv',index_col=\"User ID\")"
   ]
  },
  {
   "cell_type": "code",
   "execution_count": 30,
   "id": "40af62a1",
   "metadata": {},
   "outputs": [
    {
     "data": {
      "text/html": [
       "<div>\n",
       "<style scoped>\n",
       "    .dataframe tbody tr th:only-of-type {\n",
       "        vertical-align: middle;\n",
       "    }\n",
       "\n",
       "    .dataframe tbody tr th {\n",
       "        vertical-align: top;\n",
       "    }\n",
       "\n",
       "    .dataframe thead th {\n",
       "        text-align: right;\n",
       "    }\n",
       "</style>\n",
       "<table border=\"1\" class=\"dataframe\">\n",
       "  <thead>\n",
       "    <tr style=\"text-align: right;\">\n",
       "      <th></th>\n",
       "      <th>Gender</th>\n",
       "      <th>Age</th>\n",
       "      <th>EstimatedSalary</th>\n",
       "      <th>Purchased</th>\n",
       "    </tr>\n",
       "    <tr>\n",
       "      <th>User ID</th>\n",
       "      <th></th>\n",
       "      <th></th>\n",
       "      <th></th>\n",
       "      <th></th>\n",
       "    </tr>\n",
       "  </thead>\n",
       "  <tbody>\n",
       "    <tr>\n",
       "      <th>15624510</th>\n",
       "      <td>Male</td>\n",
       "      <td>19</td>\n",
       "      <td>19000</td>\n",
       "      <td>0</td>\n",
       "    </tr>\n",
       "    <tr>\n",
       "      <th>15810944</th>\n",
       "      <td>Male</td>\n",
       "      <td>35</td>\n",
       "      <td>20000</td>\n",
       "      <td>0</td>\n",
       "    </tr>\n",
       "    <tr>\n",
       "      <th>15668575</th>\n",
       "      <td>Female</td>\n",
       "      <td>26</td>\n",
       "      <td>43000</td>\n",
       "      <td>0</td>\n",
       "    </tr>\n",
       "    <tr>\n",
       "      <th>15603246</th>\n",
       "      <td>Female</td>\n",
       "      <td>27</td>\n",
       "      <td>57000</td>\n",
       "      <td>0</td>\n",
       "    </tr>\n",
       "    <tr>\n",
       "      <th>15804002</th>\n",
       "      <td>Male</td>\n",
       "      <td>19</td>\n",
       "      <td>76000</td>\n",
       "      <td>0</td>\n",
       "    </tr>\n",
       "  </tbody>\n",
       "</table>\n",
       "</div>"
      ],
      "text/plain": [
       "          Gender  Age  EstimatedSalary  Purchased\n",
       "User ID                                          \n",
       "15624510    Male   19            19000          0\n",
       "15810944    Male   35            20000          0\n",
       "15668575  Female   26            43000          0\n",
       "15603246  Female   27            57000          0\n",
       "15804002    Male   19            76000          0"
      ]
     },
     "execution_count": 30,
     "metadata": {},
     "output_type": "execute_result"
    }
   ],
   "source": [
    "df.head()"
   ]
  },
  {
   "cell_type": "code",
   "execution_count": 31,
   "id": "f0d87f97",
   "metadata": {},
   "outputs": [
    {
     "data": {
      "text/plain": [
       "(400, 4)"
      ]
     },
     "execution_count": 31,
     "metadata": {},
     "output_type": "execute_result"
    }
   ],
   "source": [
    "df.shape"
   ]
  },
  {
   "cell_type": "code",
   "execution_count": null,
   "id": "261866ef",
   "metadata": {},
   "outputs": [],
   "source": []
  },
  {
   "cell_type": "code",
   "execution_count": 32,
   "id": "cfa05e89",
   "metadata": {},
   "outputs": [],
   "source": [
    "df.drop('Gender',axis=1,inplace=True)"
   ]
  },
  {
   "cell_type": "markdown",
   "id": "90977799",
   "metadata": {},
   "source": [
    "#Train Test Split"
   ]
  },
  {
   "cell_type": "code",
   "execution_count": 33,
   "id": "e0a2d754",
   "metadata": {},
   "outputs": [],
   "source": [
    "from sklearn.model_selection import train_test_split\n",
    "\n",
    "##X_train, X_test, y_train, y_test=train_test_split(df.drop('Purchased'),axis=1),df['Purchased'],test_size=0.3,random_state=0)"
   ]
  },
  {
   "cell_type": "code",
   "execution_count": 34,
   "id": "4124fcef",
   "metadata": {},
   "outputs": [],
   "source": [
    "X=df.drop('Purchased',axis=1)"
   ]
  },
  {
   "cell_type": "code",
   "execution_count": 35,
   "id": "05de161c",
   "metadata": {},
   "outputs": [],
   "source": [
    "y=df['Purchased']"
   ]
  },
  {
   "cell_type": "code",
   "execution_count": 36,
   "id": "265ac017",
   "metadata": {},
   "outputs": [
    {
     "data": {
      "text/plain": [
       "(          Age  EstimatedSalary\n",
       " User ID                       \n",
       " 15624510   19            19000\n",
       " 15810944   35            20000\n",
       " 15668575   26            43000\n",
       " 15603246   27            57000\n",
       " 15804002   19            76000\n",
       " ...       ...              ...\n",
       " 15691863   46            41000\n",
       " 15706071   51            23000\n",
       " 15654296   50            20000\n",
       " 15755018   36            33000\n",
       " 15594041   49            36000\n",
       " \n",
       " [400 rows x 2 columns],\n",
       " User ID\n",
       " 15624510    0\n",
       " 15810944    0\n",
       " 15668575    0\n",
       " 15603246    0\n",
       " 15804002    0\n",
       "            ..\n",
       " 15691863    1\n",
       " 15706071    1\n",
       " 15654296    1\n",
       " 15755018    0\n",
       " 15594041    1\n",
       " Name: Purchased, Length: 400, dtype: int64)"
      ]
     },
     "execution_count": 36,
     "metadata": {},
     "output_type": "execute_result"
    }
   ],
   "source": [
    "X,y"
   ]
  },
  {
   "cell_type": "code",
   "execution_count": 20,
   "id": "5baf8dcb",
   "metadata": {},
   "outputs": [
    {
     "data": {
      "text/plain": [
       "User ID\n",
       "15624510    0\n",
       "15810944    0\n",
       "Name: Purchased, dtype: int64"
      ]
     },
     "execution_count": 20,
     "metadata": {},
     "output_type": "execute_result"
    }
   ],
   "source": [
    "y"
   ]
  },
  {
   "cell_type": "code",
   "execution_count": 37,
   "id": "93df7fa5",
   "metadata": {},
   "outputs": [],
   "source": [
    "X_train, X_test, y_train, y_test=train_test_split(X,y,test_size=0.3,random_state=0)"
   ]
  },
  {
   "cell_type": "code",
   "execution_count": 38,
   "id": "8c09f313",
   "metadata": {},
   "outputs": [
    {
     "data": {
      "text/plain": [
       "(280, 2)"
      ]
     },
     "execution_count": 38,
     "metadata": {},
     "output_type": "execute_result"
    }
   ],
   "source": [
    "X_train.shape"
   ]
  },
  {
   "cell_type": "code",
   "execution_count": 39,
   "id": "65f33861",
   "metadata": {},
   "outputs": [
    {
     "data": {
      "text/plain": [
       "(400, 2)"
      ]
     },
     "execution_count": 39,
     "metadata": {},
     "output_type": "execute_result"
    }
   ],
   "source": [
    "X.shape"
   ]
  },
  {
   "cell_type": "code",
   "execution_count": 41,
   "id": "eff51811",
   "metadata": {},
   "outputs": [
    {
     "data": {
      "text/plain": [
       "(120, 2)"
      ]
     },
     "execution_count": 41,
     "metadata": {},
     "output_type": "execute_result"
    }
   ],
   "source": [
    "X_test.shape"
   ]
  },
  {
   "cell_type": "code",
   "execution_count": 42,
   "id": "4c84b795",
   "metadata": {},
   "outputs": [],
   "source": [
    "from sklearn.preprocessing import StandardScaler"
   ]
  },
  {
   "cell_type": "code",
   "execution_count": 43,
   "id": "7f7dc93f",
   "metadata": {},
   "outputs": [
    {
     "data": {
      "text/plain": [
       "StandardScaler()"
      ]
     },
     "execution_count": 43,
     "metadata": {},
     "output_type": "execute_result"
    }
   ],
   "source": [
    "scaler=StandardScaler()\n",
    "\n",
    "#fit the scaler to the train set , it will learn the paramater\n",
    "\n",
    "scaler.fit(X_train)"
   ]
  },
  {
   "cell_type": "code",
   "execution_count": 44,
   "id": "57cb3492",
   "metadata": {},
   "outputs": [],
   "source": [
    "X_train_scaled=scaler.transform(X_train)\n",
    "X_test_scaled=scaler.transform(X_test)"
   ]
  },
  {
   "cell_type": "code",
   "execution_count": 45,
   "id": "cba8587d",
   "metadata": {},
   "outputs": [
    {
     "data": {
      "text/plain": [
       "array([3.78642857e+01, 6.98071429e+04])"
      ]
     },
     "execution_count": 45,
     "metadata": {},
     "output_type": "execute_result"
    }
   ],
   "source": [
    "scaler.mean_"
   ]
  },
  {
   "cell_type": "code",
   "execution_count": 46,
   "id": "92e6bdf1",
   "metadata": {},
   "outputs": [
    {
     "data": {
      "text/plain": [
       "array([[-0.77101313,  0.49720103],\n",
       "       [ 0.0133054 , -0.57280368],\n",
       "       [-0.28081405,  0.15017248],\n",
       "       [-0.77101313,  0.26584866],\n",
       "       [-0.28081405, -0.57280368],\n",
       "       [-1.06513258, -1.44037507],\n",
       "       [-0.67297331, -1.5849703 ],\n",
       "       [-0.18277423,  2.14558666],\n",
       "       [-1.94749093, -0.05226085],\n",
       "       [ 0.89566375, -0.775237  ],\n",
       "       [-0.77101313, -0.60172273],\n",
       "       [-0.96709276, -0.42820845],\n",
       "       [-0.08473441, -0.42820845],\n",
       "       [ 0.11134522,  0.20801057],\n",
       "       [-1.7514113 ,  0.46828198],\n",
       "       [-0.5749335 ,  1.36477242],\n",
       "       [-0.08473441,  0.20801057],\n",
       "       [-1.84945111,  0.43936294],\n",
       "       [ 1.67998229,  1.74072002],\n",
       "       [-0.28081405, -1.38253697],\n",
       "       [-0.28081405, -0.65956082],\n",
       "       [ 0.89566375,  2.14558666],\n",
       "       [ 0.30742485, -0.54388463],\n",
       "       [ 0.89566375,  1.01774386],\n",
       "       [-1.45729185, -1.2090227 ],\n",
       "       [ 1.09174339,  2.05882953],\n",
       "       [-0.96709276,  0.49720103],\n",
       "       [-0.86905295,  0.29476771],\n",
       "       [-0.08473441, -0.22577513],\n",
       "       [-0.5749335 ,  0.46828198],\n",
       "       [-1.65337148,  0.52612008],\n",
       "       [-0.08473441,  0.26584866],\n",
       "       [ 1.87606192, -0.28361322],\n",
       "       [-0.08473441, -0.48604654],\n",
       "       [-1.35925203, -0.34145131],\n",
       "       [-1.94749093, -0.51496559],\n",
       "       [-1.55533166,  0.32368675],\n",
       "       [-0.37885386, -0.775237  ],\n",
       "       [-0.67297331, -1.03550842],\n",
       "       [ 1.09174339, -0.97767033],\n",
       "       [-1.06513258,  0.52612008],\n",
       "       [ 0.30742485, -0.51496559],\n",
       "       [-1.06513258,  0.41044389],\n",
       "       [-0.28081405, -1.44037507],\n",
       "       [ 0.50350449,  1.22017719],\n",
       "       [-1.06513258, -0.34145131],\n",
       "       [-0.08473441,  0.29476771],\n",
       "       [ 1.38586284,  0.58395817],\n",
       "       [-1.1631724 , -1.1511846 ],\n",
       "       [ 1.09174339,  0.46828198],\n",
       "       [ 1.87606192,  1.50936765],\n",
       "       [-0.37885386, -1.29577984],\n",
       "       [-0.28081405, -0.37037036],\n",
       "       [-0.37885386,  1.30693432],\n",
       "       [ 2.07214155,  0.52612008],\n",
       "       [ 0.69958412, -1.09334651],\n",
       "       [-0.86905295,  0.38152485],\n",
       "       [-1.1631724 ,  0.29476771],\n",
       "       [ 1.09174339, -1.2090227 ],\n",
       "       [-1.45729185, -1.44037507],\n",
       "       [-0.5749335 , -1.49821316],\n",
       "       [ 2.17018137, -0.80415605],\n",
       "       [-1.84945111,  0.17909152],\n",
       "       [-0.18277423,  0.84422958],\n",
       "       [-1.84945111, -1.26686079],\n",
       "       [ 2.17018137,  0.38152485],\n",
       "       [-1.35925203,  0.55503912],\n",
       "       [-1.06513258, -0.34145131],\n",
       "       [ 0.20938504, -0.65956082],\n",
       "       [ 0.40546467,  0.00557724],\n",
       "       [-0.5749335 ,  2.31910094],\n",
       "       [-0.28081405,  0.20801057],\n",
       "       [-1.55533166, -0.19685608],\n",
       "       [ 0.69958412, -1.38253697],\n",
       "       [-1.06513258,  0.55503912],\n",
       "       [-1.94749093,  0.3526058 ],\n",
       "       [ 0.40546467,  0.26584866],\n",
       "       [ 0.20938504, -0.28361322],\n",
       "       [ 1.48390265, -1.03550842],\n",
       "       [ 0.89566375,  1.07558195],\n",
       "       [ 1.97410174,  2.14558666],\n",
       "       [ 2.07214155,  0.38152485],\n",
       "       [-1.35925203, -0.42820845],\n",
       "       [-1.1631724 , -1.00658937],\n",
       "       [ 1.97410174, -0.91983223],\n",
       "       [ 0.40546467,  0.29476771],\n",
       "       [ 0.20938504,  0.15017248],\n",
       "       [ 2.07214155,  1.74072002],\n",
       "       [ 0.79762394, -0.8330751 ],\n",
       "       [ 0.30742485, -0.28361322],\n",
       "       [ 0.40546467, -0.16793703],\n",
       "       [-0.08473441,  2.20342476],\n",
       "       [-1.45729185, -0.63064177],\n",
       "       [-1.26121221, -1.06442747],\n",
       "       [-1.35925203,  0.41044389],\n",
       "       [-1.06513258,  0.75747245],\n",
       "       [-1.45729185, -0.19685608],\n",
       "       [ 0.99370357, -1.06442747],\n",
       "       [ 0.99370357,  0.58395817],\n",
       "       [ 0.40546467,  0.98882482],\n",
       "       [ 0.6015443 , -0.89091319],\n",
       "       [-0.5749335 ,  1.45152956],\n",
       "       [ 0.0133054 , -0.57280368],\n",
       "       [-0.5749335 ,  1.88531525],\n",
       "       [ 1.38586284, -1.41145602],\n",
       "       [ 1.48390265,  0.98882482],\n",
       "       [ 0.11134522, -0.80415605],\n",
       "       [ 0.0133054 , -0.25469417],\n",
       "       [-0.18277423, -0.57280368],\n",
       "       [-0.18277423, -0.19685608],\n",
       "       [-0.28081405, -1.29577984],\n",
       "       [-0.28081405, -0.57280368],\n",
       "       [ 0.40546467,  0.09233438],\n",
       "       [ 0.89566375, -0.60172273],\n",
       "       [ 2.07214155, -1.18010365],\n",
       "       [ 1.09174339, -0.13901799],\n",
       "       [ 0.69958412,  1.76963906],\n",
       "       [-0.67297331,  0.55503912],\n",
       "       [ 0.79762394,  0.3526058 ],\n",
       "       [ 0.89566375, -0.54388463]])"
      ]
     },
     "execution_count": 46,
     "metadata": {},
     "output_type": "execute_result"
    }
   ],
   "source": [
    "X_test_scaled"
   ]
  },
  {
   "cell_type": "code",
   "execution_count": 56,
   "id": "24328c15",
   "metadata": {},
   "outputs": [],
   "source": [
    "X_train_scaled=pd.DataFrame(X_train_scaled,columns=X_train.columns)\n",
    "X_test_scaled=pd.DataFrame(X_test_scaled,columns=X_test.columns)"
   ]
  },
  {
   "cell_type": "code",
   "execution_count": 57,
   "id": "1cf7850f",
   "metadata": {},
   "outputs": [
    {
     "data": {
      "text/plain": [
       "Age               -0.068394\n",
       "EstimatedSalary   -0.006231\n",
       "dtype: float64"
      ]
     },
     "execution_count": 57,
     "metadata": {},
     "output_type": "execute_result"
    }
   ],
   "source": [
    "X_test_scaled.mean()"
   ]
  },
  {
   "cell_type": "code",
   "execution_count": 54,
   "id": "ae69872a",
   "metadata": {},
   "outputs": [
    {
     "data": {
      "text/html": [
       "<div>\n",
       "<style scoped>\n",
       "    .dataframe tbody tr th:only-of-type {\n",
       "        vertical-align: middle;\n",
       "    }\n",
       "\n",
       "    .dataframe tbody tr th {\n",
       "        vertical-align: top;\n",
       "    }\n",
       "\n",
       "    .dataframe thead th {\n",
       "        text-align: right;\n",
       "    }\n",
       "</style>\n",
       "<table border=\"1\" class=\"dataframe\">\n",
       "  <thead>\n",
       "    <tr style=\"text-align: right;\">\n",
       "      <th></th>\n",
       "      <th>Age</th>\n",
       "      <th>EstimatedSalary</th>\n",
       "    </tr>\n",
       "  </thead>\n",
       "  <tbody>\n",
       "    <tr>\n",
       "      <th>count</th>\n",
       "      <td>280.0</td>\n",
       "      <td>280.0</td>\n",
       "    </tr>\n",
       "    <tr>\n",
       "      <th>mean</th>\n",
       "      <td>38.0</td>\n",
       "      <td>69807.0</td>\n",
       "    </tr>\n",
       "    <tr>\n",
       "      <th>std</th>\n",
       "      <td>10.0</td>\n",
       "      <td>34641.0</td>\n",
       "    </tr>\n",
       "    <tr>\n",
       "      <th>min</th>\n",
       "      <td>18.0</td>\n",
       "      <td>15000.0</td>\n",
       "    </tr>\n",
       "    <tr>\n",
       "      <th>25%</th>\n",
       "      <td>30.0</td>\n",
       "      <td>43000.0</td>\n",
       "    </tr>\n",
       "    <tr>\n",
       "      <th>50%</th>\n",
       "      <td>37.0</td>\n",
       "      <td>70500.0</td>\n",
       "    </tr>\n",
       "    <tr>\n",
       "      <th>75%</th>\n",
       "      <td>46.0</td>\n",
       "      <td>88000.0</td>\n",
       "    </tr>\n",
       "    <tr>\n",
       "      <th>max</th>\n",
       "      <td>60.0</td>\n",
       "      <td>150000.0</td>\n",
       "    </tr>\n",
       "  </tbody>\n",
       "</table>\n",
       "</div>"
      ],
      "text/plain": [
       "         Age  EstimatedSalary\n",
       "count  280.0            280.0\n",
       "mean    38.0          69807.0\n",
       "std     10.0          34641.0\n",
       "min     18.0          15000.0\n",
       "25%     30.0          43000.0\n",
       "50%     37.0          70500.0\n",
       "75%     46.0          88000.0\n",
       "max     60.0         150000.0"
      ]
     },
     "execution_count": 54,
     "metadata": {},
     "output_type": "execute_result"
    }
   ],
   "source": [
    "np.round(X_train.describe())"
   ]
  },
  {
   "cell_type": "code",
   "execution_count": 58,
   "id": "ea306724",
   "metadata": {},
   "outputs": [
    {
     "data": {
      "text/html": [
       "<div>\n",
       "<style scoped>\n",
       "    .dataframe tbody tr th:only-of-type {\n",
       "        vertical-align: middle;\n",
       "    }\n",
       "\n",
       "    .dataframe tbody tr th {\n",
       "        vertical-align: top;\n",
       "    }\n",
       "\n",
       "    .dataframe thead th {\n",
       "        text-align: right;\n",
       "    }\n",
       "</style>\n",
       "<table border=\"1\" class=\"dataframe\">\n",
       "  <thead>\n",
       "    <tr style=\"text-align: right;\">\n",
       "      <th></th>\n",
       "      <th>Age</th>\n",
       "      <th>EstimatedSalary</th>\n",
       "    </tr>\n",
       "  </thead>\n",
       "  <tbody>\n",
       "    <tr>\n",
       "      <th>count</th>\n",
       "      <td>280.0</td>\n",
       "      <td>280.0</td>\n",
       "    </tr>\n",
       "    <tr>\n",
       "      <th>mean</th>\n",
       "      <td>0.0</td>\n",
       "      <td>0.0</td>\n",
       "    </tr>\n",
       "    <tr>\n",
       "      <th>std</th>\n",
       "      <td>1.0</td>\n",
       "      <td>1.0</td>\n",
       "    </tr>\n",
       "    <tr>\n",
       "      <th>min</th>\n",
       "      <td>-2.0</td>\n",
       "      <td>-2.0</td>\n",
       "    </tr>\n",
       "    <tr>\n",
       "      <th>25%</th>\n",
       "      <td>-1.0</td>\n",
       "      <td>-1.0</td>\n",
       "    </tr>\n",
       "    <tr>\n",
       "      <th>50%</th>\n",
       "      <td>-0.0</td>\n",
       "      <td>0.0</td>\n",
       "    </tr>\n",
       "    <tr>\n",
       "      <th>75%</th>\n",
       "      <td>1.0</td>\n",
       "      <td>1.0</td>\n",
       "    </tr>\n",
       "    <tr>\n",
       "      <th>max</th>\n",
       "      <td>2.0</td>\n",
       "      <td>2.0</td>\n",
       "    </tr>\n",
       "  </tbody>\n",
       "</table>\n",
       "</div>"
      ],
      "text/plain": [
       "         Age  EstimatedSalary\n",
       "count  280.0            280.0\n",
       "mean     0.0              0.0\n",
       "std      1.0              1.0\n",
       "min     -2.0             -2.0\n",
       "25%     -1.0             -1.0\n",
       "50%     -0.0              0.0\n",
       "75%      1.0              1.0\n",
       "max      2.0              2.0"
      ]
     },
     "execution_count": 58,
     "metadata": {},
     "output_type": "execute_result"
    }
   ],
   "source": [
    "np.round(X_train_scaled.describe())"
   ]
  },
  {
   "cell_type": "markdown",
   "id": "5d31b8e3",
   "metadata": {},
   "source": [
    "# Effect of Scaling"
   ]
  },
  {
   "cell_type": "code",
   "execution_count": 66,
   "id": "373c287a",
   "metadata": {},
   "outputs": [
    {
     "data": {
      "image/png": "[encoded data removed]",
      "text/plain": [
       "<Figure size 1200x1500 with 2 Axes>"
      ]
     },
     "metadata": {},
     "output_type": "display_data"
    }
   ],
   "source": [
    "fig,(ax1,ax2)=plt.subplots(ncols=2,figsize=(12,15))\n",
    "\n",
    "ax1.scatter(X_train['Age'],X_train['EstimatedSalary'])\n",
    "ax1.set_title(\"Before scaling\")\n",
    "ax2.scatter(X_train_scaled['Age'],X_train_scaled['EstimatedSalary'],color='red')\n",
    "ax2.set_title(\"After scaling\")\n",
    "plt.show()"
   ]
  },
  {
   "cell_type": "code",
   "execution_count": 67,
   "id": "dadcbcdf",
   "metadata": {},
   "outputs": [],
   "source": [
    "#Data is same , but the data is focussed on center"
   ]
  },
  {
   "cell_type": "code",
   "execution_count": 70,
   "id": "30364d09",
   "metadata": {},
   "outputs": [
    {
     "data": {
      "image/png": "[encoded data removed]",
      "text/plain": [
       "<Figure size 700x900 with 2 Axes>"
      ]
     },
     "metadata": {},
     "output_type": "display_data"
    }
   ],
   "source": [
    " fig,(ax1,ax2)=plt.subplots(ncols=2,figsize=(7,9))\n",
    "\n",
    "\n",
    "ax1.set_title(\"Before scaling\")\n",
    "sns.kdeplot(X_train['Age'],ax=ax1)\n",
    "sns.kdeplot(X_train['EstimatedSalary'],ax=ax1)\n",
    "\n",
    "ax2.set_title(\"After scaling\")\n",
    "sns.kdeplot(X_train_scaled['Age'],ax=ax2)\n",
    "sns.kdeplot(X_train_scaled['EstimatedSalary'],ax=ax2)\n",
    "\n",
    "plt.show()"
   ]
  },
  {
   "cell_type": "code",
   "execution_count": 71,
   "id": "478c7b49",
   "metadata": {},
   "outputs": [],
   "source": [
    "from sklearn.linear_model import LogisticRegression"
   ]
  },
  {
   "cell_type": "code",
   "execution_count": 72,
   "id": "88b5b7a7",
   "metadata": {},
   "outputs": [],
   "source": [
    "lr=LogisticRegression()"
   ]
  },
  {
   "cell_type": "code",
   "execution_count": 73,
   "id": "220206dc",
   "metadata": {},
   "outputs": [],
   "source": [
    "lr_scaled=LogisticRegression()"
   ]
  },
  {
   "cell_type": "code",
   "execution_count": 75,
   "id": "e988ed0b",
   "metadata": {},
   "outputs": [
    {
     "data": {
      "text/plain": [
       "LogisticRegression()"
      ]
     },
     "execution_count": 75,
     "metadata": {},
     "output_type": "execute_result"
    }
   ],
   "source": [
    "lr.fit(X_train,y_train)\n",
    "lr_scaled.fit(X_train_scaled,y_train)\n"
   ]
  },
  {
   "cell_type": "code",
   "execution_count": 76,
   "id": "18195687",
   "metadata": {},
   "outputs": [],
   "source": [
    "y_pred=lr.predict(X_test)\n",
    "y_pred_scaled=lr_scaled.predict(X_test_scaled)"
   ]
  },
  {
   "cell_type": "code",
   "execution_count": 77,
   "id": "509da938",
   "metadata": {},
   "outputs": [],
   "source": [
    "from sklearn.metrics import accuracy_score"
   ]
  },
  {
   "cell_type": "code",
   "execution_count": 78,
   "id": "0cdc3fb9",
   "metadata": {},
   "outputs": [
    {
     "name": "stdout",
     "output_type": "stream",
     "text": [
      "Actual 0.6583333333333333\n",
      "Actual 0.8666666666666667\n"
     ]
    }
   ],
   "source": [
    "print(\"Actual\",accuracy_score(y_test,y_pred))\n",
    "print(\"Actual\",accuracy_score(y_test,y_pred_scaled))"
   ]
  },
  {
   "cell_type": "markdown",
   "id": "e5cee614",
   "metadata": {},
   "source": [
    "# No effect on outliers"
   ]
  },
  {
   "cell_type": "code",
   "execution_count": 80,
   "id": "b149f956",
   "metadata": {},
   "outputs": [
    {
     "name": "stderr",
     "output_type": "stream",
     "text": [
      "C:\\Users\\MODASUD\\AppData\\Local\\Temp\\ipykernel_14320\\2671202972.py:1: FutureWarning: The frame.append method is deprecated and will be removed from pandas in a future version. Use pandas.concat instead.\n",
      "  df=df.append(pd.DataFrame({'Age':[5,90,95],'EstimatedSalary':[1000,250000,350000],\"Purchased\":[0,1,1]}))\n"
     ]
    }
   ],
   "source": [
    "df=df.append(pd.DataFrame({'Age':[5,90,95],'EstimatedSalary':[1000,250000,350000],\"Purchased\":[0,1,1]}))"
   ]
  },
  {
   "cell_type": "code",
   "execution_count": 82,
   "id": "ae6dfec5",
   "metadata": {},
   "outputs": [
    {
     "data": {
      "text/plain": [
       "(403, 3)"
      ]
     },
     "execution_count": 82,
     "metadata": {},
     "output_type": "execute_result"
    }
   ],
   "source": [
    "df.shape"
   ]
  },
  {
   "cell_type": "code",
   "execution_count": null,
   "id": "c046048d",
   "metadata": {},
   "outputs": [],
   "source": []
  },
  {
   "cell_type": "code",
   "execution_count": null,
   "id": "6b07f3c4",
   "metadata": {},
   "outputs": [],
   "source": []
  },
  {
   "cell_type": "code",
   "execution_count": null,
   "id": "8c016d5f",
   "metadata": {},
   "outputs": [],
   "source": []
  },
  {
   "cell_type": "code",
   "execution_count": null,
   "id": "4b4435f4",
   "metadata": {},
   "outputs": [],
   "source": []
  },
  {
   "cell_type": "code",
   "execution_count": null,
   "id": "dda760f2",
   "metadata": {},
   "outputs": [],
   "source": []
  },
  {
   "cell_type": "code",
   "execution_count": null,
   "id": "30137c10",
   "metadata": {},
   "outputs": [],
   "source": []
  },
  {
   "cell_type": "code",
   "execution_count": null,
   "id": "d2dc3e06",
   "metadata": {},
   "outputs": [],
   "source": []
  },
  {
   "cell_type": "code",
   "execution_count": null,
   "id": "518d3ba0",
   "metadata": {},
   "outputs": [],
   "source": []
  },
  {
   "cell_type": "code",
   "execution_count": null,
   "id": "d155de37",
   "metadata": {},
   "outputs": [],
   "source": []
  },
  {
   "cell_type": "code",
   "execution_count": null,
   "id": "31906abe",
   "metadata": {},
   "outputs": [],
   "source": []
  },
  {
   "cell_type": "code",
   "execution_count": null,
   "id": "18a59cc9",
   "metadata": {},
   "outputs": [],
   "source": []
  },
  {
   "cell_type": "code",
   "execution_count": null,
   "id": "eec7f249",
   "metadata": {},
   "outputs": [],
   "source": []
  },
  {
   "cell_type": "code",
   "execution_count": null,
   "id": "4158e4a6",
   "metadata": {},
   "outputs": [],
   "source": []
  },
  {
   "cell_type": "code",
   "execution_count": null,
   "id": "1c960334",
   "metadata": {},
   "outputs": [],
   "source": []
  },
  {
   "cell_type": "code",
   "execution_count": null,
   "id": "7c9f78b9",
   "metadata": {},
   "outputs": [],
   "source": []
  }
 ],
 "metadata": {
  "kernelspec": {
   "display_name": "Python 3 (ipykernel)",
   "language": "python",
   "name": "python3"
  },
  "language_info": {
   "codemirror_mode": {
    "name": "ipython",
    "version": 3
   },
   "file_extension": ".py",
   "mimetype": "text/x-python",
   "name": "python",
   "nbconvert_exporter": "python",
   "pygments_lexer": "ipython3",
   "version": "3.9.13"
  }
 },
 "nbformat": 4,
 "nbformat_minor": 5
}
